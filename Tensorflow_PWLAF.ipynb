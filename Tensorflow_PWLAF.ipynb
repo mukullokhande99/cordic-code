{
  "nbformat": 4,
  "nbformat_minor": 0,
  "metadata": {
    "colab": {
      "name": "Tensorflow_PWLAF.ipynb",
      "provenance": []
    },
    "kernelspec": {
      "name": "python3",
      "display_name": "Python 3"
    }
  },
  "cells": [
    {
      "cell_type": "code",
      "metadata": {
        "id": "ZAEtOJgdrBnY"
      },
      "source": [
        "import six\n",
        "import numpy as np\n",
        "import tensorflow.compat.v2 as tf\n",
        "from tensorflow.keras.layers import *\n",
        "from tensorflow.keras.models import Model\n",
        "from tensorflow.keras.datasets import mnist\n",
        "from tensorflow.keras.utils import to_categorical\n",
        "import matplotlib.pyplot as plt\n",
        "import keras"
      ],
      "execution_count": null,
      "outputs": []
    },
    {
      "cell_type": "code",
      "metadata": {
        "id": "5htf7Ucr2CkG"
      },
      "source": [
        "def get_data():\n",
        "    (x_train, y_train), (x_test, y_test) = mnist.load_data()\n",
        "    x_train = x_train.reshape(x_train.shape + (1,)).astype(\"float32\")\n",
        "    x_test = x_test.reshape(x_test.shape + (1,)).astype(\"float32\")\n",
        "\n",
        "    x_train /= 256.0\n",
        "    x_test /= 256.0\n",
        "\n",
        "    x_mean = np.mean(x_train, axis=0)\n",
        "\n",
        "    x_train -= x_mean\n",
        "    x_test -= x_mean\n",
        "\n",
        "    nb_classes = np.max(y_train)+1\n",
        "    y_train = to_categorical(y_train, nb_classes)\n",
        "    y_test = to_categorical(y_test, nb_classes)\n",
        "\n",
        "    #quantizer = quantized_bits(9, 1)\n",
        "    #x_train = quantizer(x_train)\n",
        "    #x_test = quantizer(x_test)\n",
        "\n",
        "    return (x_train, y_train), (x_test, y_test)\n",
        "\n",
        "(x_train, y_train), (x_test, y_test) = get_data()"
      ],
      "execution_count": null,
      "outputs": []
    },
    {
      "cell_type": "markdown",
      "metadata": {
        "id": "AcrKo_gw2yf4"
      },
      "source": [
        "# **Making own activation**"
      ]
    },
    {
      "cell_type": "markdown",
      "metadata": {
        "id": "EIxdcusRXHoW"
      },
      "source": [
        "To implement: max(α(x+c)−c, min(α(x−c)+c, x))"
      ]
    },
    {
      "cell_type": "code",
      "metadata": {
        "id": "G27XuOfPWX0Z"
      },
      "source": [
        "class MyActivation(keras.layers.Layer):\n",
        "\n",
        "    #def __init__(self):\n",
        "    #    super(MyActivation, self).__init__()\n",
        "    #    self.a = self.add_weight(\n",
        "    #        shape=(1), initializer=\"zeros\", trainable=True\n",
        "    #    )\n",
        "    #    self.c = self.add_weight(shape=(1), initializer=\"zeros\", trainable=True)\n",
        "\n",
        "    def __init__(self, **kwargs):\n",
        "        super(MyActivation, self).__init__(**kwargs)\n",
        "\n",
        "    def build(self, input_shape):\n",
        "        # Create a trainable weight variable for this layer.\n",
        "        self.a = self.add_weight(name='a',\n",
        "                                      shape=(1),\n",
        "                                      initializer ='ones',  # TODO: Choose your initializer\n",
        "                                      trainable=True)\n",
        "        self.c = self.add_weight(name='c',\n",
        "                                      shape=(1),\n",
        "                                      initializer='ones',  # TODO: Choose your initializer\n",
        "                                      trainable=True)\n",
        "        super(MyActivation, self).build(input_shape)\n",
        "\n",
        "    def call(self, x):\n",
        "        #return tf.matmul(inputs, self.w) + self.b\n",
        "        return K.maximum(self.a*(x + self.c), K.minimum(self.a*(x - self.c) + self.c, x))\n",
        "        #return K.maximum(K.zeros_like(x), x)\n",
        "\n",
        "    def compute_output_shape(self, input_shape):\n",
        "        return input_shape"
      ],
      "execution_count": null,
      "outputs": []
    },
    {
      "cell_type": "code",
      "metadata": {
        "id": "2KtgjEQJ2w95"
      },
      "source": [
        "from keras import backend as K\n",
        "def swish(x, beta=10.0):\n",
        "    #return x * K.sigmoid(beta * x)\n",
        "    return K.switch(K.less(x, 0), self.a*K.zeros_like(x), x)"
      ],
      "execution_count": null,
      "outputs": []
    },
    {
      "cell_type": "code",
      "metadata": {
        "id": "O03h_OXG2Wwf"
      },
      "source": [
        "def CreateModel(shape, nb_classes):\n",
        "    x = x_in = Input(shape)\n",
        "    x = Flatten(name=\"flatten\")(x)\n",
        "    x = Dense(256,\n",
        "        name=\"dense\")(x)\n",
        "    #x = Activation('relu')(x)\n",
        "    x = MyActivation()(x)\n",
        "    x = Dense(128,\n",
        "        name=\"dense2\")(x)\n",
        "    x = MyActivation()(x)\n",
        "    x = Dense(128,\n",
        "        name=\"dense3\")(x)\n",
        "    x = MyActivation()(x)\n",
        "    x = Dense(nb_classes,\n",
        "        name=\"dense4\")(x)\n",
        "    x = Activation(\"softmax\", name=\"softmax\")(x)\n",
        "\n",
        "    model = Model(inputs=x_in, outputs=x)    \n",
        "    return model"
      ],
      "execution_count": null,
      "outputs": []
    },
    {
      "cell_type": "code",
      "metadata": {
        "id": "jsq_OtZ03OnL"
      },
      "source": [
        "from tensorflow.keras.optimizers import Adam\n",
        "callback = tf.keras.callbacks.EarlyStopping(monitor='val_accuracy', mode='max', patience=2, restore_best_weights=True)\n",
        "\n",
        "model = CreateModel(x_train.shape[1:], y_train.shape[-1])\n",
        "model.compile(\n",
        "    loss=\"categorical_crossentropy\",\n",
        "    optimizer=Adam(0.0005),\n",
        "    #optimizer='sgd',\n",
        "    metrics=[\"accuracy\"])\n",
        "history = model.fit(x_train, y_train, epochs=5, batch_size=128, validation_data=(x_test[:5000], y_test[:5000]), verbose=False, callbacks=[callback])\n",
        "\n"
      ],
      "execution_count": null,
      "outputs": []
    },
    {
      "cell_type": "code",
      "metadata": {
        "colab": {
          "base_uri": "https://localhost:8080/"
        },
        "id": "HU4OxlzY31Cu",
        "outputId": "077fe247-4904-4fc8-9442-a3d5c82d149a"
      },
      "source": [
        "model.evaluate(x_test[5000:], y_test[5000:])"
      ],
      "execution_count": null,
      "outputs": [
        {
          "output_type": "stream",
          "text": [
            "157/157 [==============================] - 0s 2ms/step - loss: 0.2196 - accuracy: 0.9392\n"
          ],
          "name": "stdout"
        },
        {
          "output_type": "execute_result",
          "data": {
            "text/plain": [
              "[0.2195868343114853, 0.9391999840736389]"
            ]
          },
          "metadata": {
            "tags": []
          },
          "execution_count": 127
        }
      ]
    },
    {
      "cell_type": "code",
      "metadata": {
        "colab": {
          "base_uri": "https://localhost:8080/"
        },
        "id": "qe4GWNPtbniV",
        "outputId": "b4e40aea-562d-4ae2-ce68-baf30b3d8f19"
      },
      "source": [
        "model.get_weights()[10]"
      ],
      "execution_count": null,
      "outputs": [
        {
          "output_type": "execute_result",
          "data": {
            "text/plain": [
              "array([1.0112158], dtype=float32)"
            ]
          },
          "metadata": {
            "tags": []
          },
          "execution_count": 135
        }
      ]
    },
    {
      "cell_type": "code",
      "metadata": {
        "colab": {
          "base_uri": "https://localhost:8080/"
        },
        "id": "EfelAXKTbxlT",
        "outputId": "3fa23c67-8ab7-4ec3-c4a0-bb169f0653e8"
      },
      "source": [
        "model.layers"
      ],
      "execution_count": null,
      "outputs": [
        {
          "output_type": "execute_result",
          "data": {
            "text/plain": [
              "[<tensorflow.python.keras.engine.input_layer.InputLayer at 0x7f65f8b17358>,\n",
              " <tensorflow.python.keras.layers.core.Flatten at 0x7f65f8b176d8>,\n",
              " <tensorflow.python.keras.layers.core.Dense at 0x7f65f8b17d30>,\n",
              " <__main__.MyActivation at 0x7f65f8b09898>,\n",
              " <tensorflow.python.keras.layers.core.Dense at 0x7f65edce5630>,\n",
              " <__main__.MyActivation at 0x7f65f8b2f2e8>,\n",
              " <tensorflow.python.keras.layers.core.Dense at 0x7f65fb426550>,\n",
              " <__main__.MyActivation at 0x7f65f8b336d8>,\n",
              " <tensorflow.python.keras.layers.core.Dense at 0x7f65f8aecf98>,\n",
              " <tensorflow.python.keras.layers.core.Activation at 0x7f65f110a358>]"
            ]
          },
          "metadata": {
            "tags": []
          },
          "execution_count": 101
        }
      ]
    },
    {
      "cell_type": "code",
      "metadata": {
        "colab": {
          "base_uri": "https://localhost:8080/",
          "height": 282
        },
        "id": "rR1JbmXd4trj",
        "outputId": "81e267e7-e5ec-4376-ff84-7ad8646a39d7"
      },
      "source": [
        "%matplotlib inline\n",
        "plt.plot(history.history['val_accuracy'])"
      ],
      "execution_count": null,
      "outputs": [
        {
          "output_type": "execute_result",
          "data": {
            "text/plain": [
              "[<matplotlib.lines.Line2D at 0x7f65ecefb898>]"
            ]
          },
          "metadata": {
            "tags": []
          },
          "execution_count": 31
        },
        {
          "output_type": "display_data",
          "data": {
            "image/png": "[encoded data removed]",
            "text/plain": [
              "<Figure size 432x288 with 1 Axes>"
            ]
          },
          "metadata": {
            "tags": [],
            "needs_background": "light"
          }
        }
      ]
    }
  ]
}